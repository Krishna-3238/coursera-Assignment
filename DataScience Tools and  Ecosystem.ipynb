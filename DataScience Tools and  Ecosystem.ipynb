{
 "cells": [
  {
   "cell_type": "markdown",
   "id": "14deab51",
   "metadata": {},
   "source": [
    "# Data Science Tools And Ecosystem\n"
   ]
  },
  {
   "cell_type": "markdown",
   "id": "26ff776c",
   "metadata": {},
   "source": [
    "In this notebook, Data Science Tools and Ecosystem are summarized."
   ]
  },
  {
   "cell_type": "markdown",
   "id": "3afd10ba",
   "metadata": {},
   "source": [
    "List of Data Science Languages"
   ]
  },
  {
   "cell_type": "markdown",
   "id": "36cb0ce5",
   "metadata": {},
   "source": [
    "Some of the popular language that Data Scientists use are:\n",
    "*  python\n",
    "* R\n",
    "* SQL\n",
    "* Julia\n",
    "* Scala\n",
    "* Java\n",
    "* C++\n",
    "* Java sccript\n",
    "* Go\n",
    "* Ruby"
   ]
  },
  {
   "cell_type": "markdown",
   "id": "4ffae552",
   "metadata": {},
   "source": [
    "List of Data Science Libraries"
   ]
  },
  {
   "cell_type": "markdown",
   "id": "acd04f19",
   "metadata": {},
   "source": [
    "Some of the popular libraries that Data Scientists use are:\n",
    "-Data manipulation , cleaning\n",
    "* Numpy\n",
    "* Panda\n",
    "-python visualization\n",
    "* Matplotlib\n",
    "* seaborn\n",
    "* scipy\n",
    "-Python HIgh-Level Machine Learning and Deep Learning Libraries\n",
    "* Scilit\n",
    "* Keras\n",
    "* Tenserflow\n",
    "* Pytorch\n",
    "* Spark"
   ]
  },
  {
   "cell_type": "markdown",
   "id": "c1d60536",
   "metadata": {},
   "source": [
    "Table of Data Science Tools"
   ]
  },
  {
   "cell_type": "markdown",
   "id": "6d7fcd3c",
   "metadata": {},
   "source": [
    "Data Science Tools:\n",
    "\n",
    "1 open source Tools\n",
    "-data management tools are relational databases like MySQL and PostgreSQL MongoDB, Apache CouchDB, and Apache Cassandra.\n",
    "-Data integration and transformation tools are Apache AirFlow, KubeFlow, Apache Kafka, Apache Nifi, Apache SparkSQL, and NodeRED.\n",
    "-Data Visualization tools are Pixie Dust, Hue, Kibana, and Apache Superset.\n",
    "-Model deployment tools are Apache PredictionIO, Seldon, Kubernetes, Redhat OpenShift, Mleap, TensorFlow service, TensorFlow lite, and TensorFlow dot JS.\n",
    "-Model monitoring tools are ModelDB, Prometheus, IBM AI Fairness 360, IBM Adversarial Robustness 360 Toolbox, and IBM AI Explainability 360.\n",
    "-Code asset management tools are Git, GitHub, GitLab, and Bitbucket.\n",
    "-data asset management tools are Apache Atlas, ODPi Egeria, and Kylo.\n",
    "\n",
    "2 commercial Tools \n",
    "-Data management tools are Oracle Database, Microsoft SQL Server, and IBM Db2.\n",
    "-Data integration tools are mainly provided by Informatica PowerCenter and IBM InfoSphere DataStage. These are followed by products from SAP, Oracle, SAS, Talend, Microsoft, and Watson Studio Desktop.\n",
    "-Model building tools are SPSS Modeler, and SAS enterprise miner. SPSS Modeler is also available in Watson Studio Desktop. --Informatica and IBM provide data asset management tools.\n",
    "-Watson Studio, together with Watson Open Scale is a fully integrated tool covering the data science life cycle.\n",
    "\n",
    "3 Cloud Based Tools\n",
    "-data integration tools widely used are Informatica Cloud Data Integration and IBM’s Data Refinery. \n",
    "-data visualization tool is Datameer and IBM’s Cognos Business intelligence suite.\n",
    "-Model building can be done using a service such as Watson Machine Learning.\n",
    "-Amazon SageMaker Model Monitor is an example of a cloud tool to monitor deployed machine-learning and deep learning models continuously."
   ]
  },
  {
   "cell_type": "markdown",
   "id": "93da03a2",
   "metadata": {},
   "source": [
    "Example of Arithmetic Expression\n"
   ]
  },
  {
   "cell_type": "code",
   "execution_count": 1,
   "id": "0e6f572a",
   "metadata": {},
   "outputs": [
    {
     "name": "stdout",
     "output_type": "stream",
     "text": [
      "9\n"
     ]
    }
   ],
   "source": [
    "a=6\n",
    "b=3\n",
    "c=a+b\n",
    "print(c)"
   ]
  },
  {
   "cell_type": "markdown",
   "id": "768f59b0",
   "metadata": {},
   "source": [
    "Example of Multiply and Add Numbers"
   ]
  },
  {
   "cell_type": "code",
   "execution_count": 2,
   "id": "d46d9f21",
   "metadata": {},
   "outputs": [],
   "source": [
    "a=(82*7)+9"
   ]
  },
  {
   "cell_type": "code",
   "execution_count": 3,
   "id": "b3d09487",
   "metadata": {},
   "outputs": [
    {
     "name": "stdout",
     "output_type": "stream",
     "text": [
      "583\n"
     ]
    }
   ],
   "source": [
    "print(a)"
   ]
  },
  {
   "cell_type": "markdown",
   "id": "87b3fad9",
   "metadata": {},
   "source": [
    "Convert minutes to hour"
   ]
  },
  {
   "cell_type": "code",
   "execution_count": 4,
   "id": "75a55c52",
   "metadata": {},
   "outputs": [
    {
     "name": "stdout",
     "output_type": "stream",
     "text": [
      "5.0\n"
     ]
    }
   ],
   "source": [
    "min=300\n",
    "hr=min/60\n",
    "print(hr)"
   ]
  },
  {
   "cell_type": "markdown",
   "id": "fed3cc9a",
   "metadata": {},
   "source": [
    "List Objective"
   ]
  },
  {
   "cell_type": "markdown",
   "id": "723c85bc",
   "metadata": {},
   "source": [
    ". able to describe about various data science tools.\n",
    ". able to describe about various data science language.\n",
    ". able to describe about various data science libraries.\n",
    ". able to describe about jupyter notebook and jupyter lab.\n",
    ". able to describe about Rstudio and github."
   ]
  },
  {
   "cell_type": "markdown",
   "id": "0fe03085",
   "metadata": {},
   "source": [
    "Author's Name"
   ]
  },
  {
   "cell_type": "markdown",
   "id": "b88d54f5",
   "metadata": {},
   "source": [
    "# Author"
   ]
  },
  {
   "cell_type": "markdown",
   "id": "718fa5c4",
   "metadata": {},
   "source": [
    "Krishnandan sah"
   ]
  },
  {
   "cell_type": "code",
   "execution_count": null,
   "id": "13188c03",
   "metadata": {},
   "outputs": [],
   "source": []
  }
 ],
 "metadata": {
  "kernelspec": {
   "display_name": "Python 3 (ipykernel)",
   "language": "python",
   "name": "python3"
  },
  "language_info": {
   "codemirror_mode": {
    "name": "ipython",
    "version": 3
   },
   "file_extension": ".py",
   "mimetype": "text/x-python",
   "name": "python",
   "nbconvert_exporter": "python",
   "pygments_lexer": "ipython3",
   "version": "3.9.13"
  }
 },
 "nbformat": 4,
 "nbformat_minor": 5
}
